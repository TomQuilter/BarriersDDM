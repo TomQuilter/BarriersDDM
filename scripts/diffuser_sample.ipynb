{
  "cells": [
    {
      "cell_type": "markdown",
      "metadata": {
        "id": "7Cy2P-c4XFTx"
      },
      "source": [
        "### Setup"
      ]
    },
    {
      "cell_type": "markdown",
      "metadata": {
        "id": "Tj7eyweNapes"
      },
      "source": [
        "apt install requirements"
      ]
    },
    {
      "cell_type": "code",
      "execution_count": 2,
      "metadata": {
        "colab": {
          "base_uri": "https://localhost:8080/"
        },
        "id": "HKMZc5zvfoY1",
        "outputId": "ba9c9c41-6a2b-4254-d890-c9bb05ea6f6d"
      },
      "outputs": [
        {
          "name": "stdout",
          "output_type": "stream",
          "text": [
            "E: Could not open lock file /var/lib/dpkg/lock-frontend - open (13: Permission denied)\n",
            "E: Unable to acquire the dpkg frontend lock (/var/lib/dpkg/lock-frontend), are you root?\n",
            "E: Could not open lock file /var/lib/dpkg/lock-frontend - open (13: Permission denied)\n",
            "E: Unable to acquire the dpkg frontend lock (/var/lib/dpkg/lock-frontend), are you root?\n"
          ]
        }
      ],
      "source": [
        "!apt-get install -y \\\n",
        "    libgl1-mesa-dev \\\n",
        "    libgl1-mesa-glx \\\n",
        "    libglew-dev \\\n",
        "    libosmesa6-dev \\\n",
        "    software-properties-common\n",
        "\n",
        "!apt-get install -y patchelf"
      ]
    },
    {
      "cell_type": "markdown",
      "metadata": {
        "id": "ppxv6Mdkalbc"
      },
      "source": [
        "Clone repo and install dependencies"
      ]
    },
    {
      "cell_type": "code",
      "execution_count": 3,
      "metadata": {
        "colab": {
          "base_uri": "https://localhost:8080/",
          "height": 1000
        },
        "id": "mgQA_XN-XGY2",
        "outputId": "33efe14b-2d12-49af-e668-1a7e3bab363e"
      },
      "outputs": [
        {
          "name": "stdout",
          "output_type": "stream",
          "text": [
            "[Errno 2] No such file or directory: '/content'\n",
            "/home/tomq/Documents/DiffuserMaze2d/diffuser/scripts\n",
            "/bin/bash: line 1: curl: command not found\n",
            "tar: diffuser.zip: Cannot open: No such file or directory\n",
            "tar: Error is not recoverable: exiting now\n",
            "[Errno 2] No such file or directory: 'diffuser'\n",
            "/home/tomq/Documents/DiffuserMaze2d/diffuser/scripts\n",
            "Looking in links: https://download.pytorch.org/whl/torch_stable.html\n",
            "Collecting git+https://github.com/JannerM/d4rl.git@0e84a4d29db3ae501043215ce1d91843929f1949\n",
            "  Cloning https://github.com/JannerM/d4rl.git (to revision 0e84a4d29db3ae501043215ce1d91843929f1949) to /tmp/pip-req-build-lye0zuzz\n",
            "  Running command git clone --filter=blob:none --quiet https://github.com/JannerM/d4rl.git /tmp/pip-req-build-lye0zuzz\n",
            "  Running command git rev-parse -q --verify 'sha^0e84a4d29db3ae501043215ce1d91843929f1949'\n",
            "  Running command git fetch -q https://github.com/JannerM/d4rl.git 0e84a4d29db3ae501043215ce1d91843929f1949\n",
            "  Running command git checkout -q 0e84a4d29db3ae501043215ce1d91843929f1949\n",
            "  Resolved https://github.com/JannerM/d4rl.git to commit 0e84a4d29db3ae501043215ce1d91843929f1949\n",
            "  Preparing metadata (setup.py) ... \u001b[?25ldone\n",
            "\u001b[?25hCollecting git+https://github.com/aravindr93/mjrl\n",
            "  Cloning https://github.com/aravindr93/mjrl to /tmp/pip-req-build-55eke5r0\n",
            "  Running command git clone --filter=blob:none --quiet https://github.com/aravindr93/mjrl /tmp/pip-req-build-55eke5r0\n",
            "  Resolved https://github.com/aravindr93/mjrl to commit 3871d93763d3b49c4741e6daeaebbc605fe140dc\n",
            "  Preparing metadata (setup.py) ... \u001b[?25ldone\n",
            "\u001b[?25hRequirement already satisfied: typed-argument-parser in /home/tomq/anaconda3/envs/diff_test/lib/python3.8/site-packages (1.9.0)\n",
            "Requirement already satisfied: scikit-image==0.17.2 in /home/tomq/anaconda3/envs/diff_test/lib/python3.8/site-packages (0.17.2)\n",
            "Requirement already satisfied: scikit-video==1.1.11 in /home/tomq/anaconda3/envs/diff_test/lib/python3.8/site-packages (1.1.11)\n",
            "Requirement already satisfied: gitpython in /home/tomq/anaconda3/envs/diff_test/lib/python3.8/site-packages (3.1.41)\n",
            "Requirement already satisfied: einops in /home/tomq/anaconda3/envs/diff_test/lib/python3.8/site-packages (0.7.0)\n",
            "Requirement already satisfied: pillow in /home/tomq/anaconda3/envs/diff_test/lib/python3.8/site-packages (10.2.0)\n",
            "Collecting free-mujoco-py\n",
            "  Downloading free_mujoco_py-2.1.6-py3-none-any.whl (14.1 MB)\n",
            "\u001b[2K     \u001b[90m━━━━━━━━━━━━━━━━━━━━━━━━━━━━━━━━━━━━━━━━\u001b[0m \u001b[32m14.1/14.1 MB\u001b[0m \u001b[31m9.7 MB/s\u001b[0m eta \u001b[36m0:00:00\u001b[0m:00:01\u001b[0m00:01\u001b[0m\n",
            "\u001b[?25hRequirement already satisfied: gym in /home/tomq/anaconda3/envs/diff_test/lib/python3.8/site-packages (0.18.0)\n",
            "Requirement already satisfied: numpy>=1.15.1 in /home/tomq/anaconda3/envs/diff_test/lib/python3.8/site-packages (from scikit-image==0.17.2) (1.22.3)\n",
            "Requirement already satisfied: scipy>=1.0.1 in /home/tomq/anaconda3/envs/diff_test/lib/python3.8/site-packages (from scikit-image==0.17.2) (1.10.1)\n",
            "Requirement already satisfied: matplotlib!=3.0.0,>=2.0.0 in /home/tomq/anaconda3/envs/diff_test/lib/python3.8/site-packages (from scikit-image==0.17.2) (3.3.4)\n",
            "Requirement already satisfied: networkx>=2.0 in /home/tomq/anaconda3/envs/diff_test/lib/python3.8/site-packages (from scikit-image==0.17.2) (3.1)\n",
            "Requirement already satisfied: imageio>=2.3.0 in /home/tomq/anaconda3/envs/diff_test/lib/python3.8/site-packages (from scikit-image==0.17.2) (2.9.0)\n",
            "Requirement already satisfied: tifffile>=2019.7.26 in /home/tomq/anaconda3/envs/diff_test/lib/python3.8/site-packages (from scikit-image==0.17.2) (2023.7.10)\n",
            "Requirement already satisfied: PyWavelets>=1.1.1 in /home/tomq/anaconda3/envs/diff_test/lib/python3.8/site-packages (from scikit-image==0.17.2) (1.4.1)\n",
            "Requirement already satisfied: typing-inspect>=0.7.1 in /home/tomq/anaconda3/envs/diff_test/lib/python3.8/site-packages (from typed-argument-parser) (0.9.0)\n",
            "Requirement already satisfied: docstring-parser>=0.15 in /home/tomq/anaconda3/envs/diff_test/lib/python3.8/site-packages (from typed-argument-parser) (0.15)\n",
            "Requirement already satisfied: gitdb<5,>=4.0.1 in /home/tomq/anaconda3/envs/diff_test/lib/python3.8/site-packages (from gitpython) (4.0.11)\n",
            "Requirement already satisfied: Cython<0.30.0,>=0.29.24 in /home/tomq/anaconda3/envs/diff_test/lib/python3.8/site-packages (from free-mujoco-py) (0.29.37)\n",
            "Requirement already satisfied: cffi<2.0.0,>=1.15.0 in /home/tomq/anaconda3/envs/diff_test/lib/python3.8/site-packages (from free-mujoco-py) (1.15.0)\n",
            "Collecting fasteners==0.15 (from free-mujoco-py)\n",
            "  Downloading fasteners-0.15-py2.py3-none-any.whl (23 kB)\n",
            "Collecting glfw<2.0.0,>=1.4.0 (from free-mujoco-py)\n",
            "  Downloading glfw-1.12.0-py2.py27.py3.py30.py31.py32.py33.py34.py35.py36.py37.py38-none-manylinux2014_x86_64.whl (203 kB)\n",
            "\u001b[2K     \u001b[90m━━━━━━━━━━━━━━━━━━━━━━━━━━━━━━━━━━━━━━━\u001b[0m \u001b[32m203.7/203.7 kB\u001b[0m \u001b[31m9.6 MB/s\u001b[0m eta \u001b[36m0:00:00\u001b[0m\n",
            "\u001b[?25hRequirement already satisfied: six in /home/tomq/anaconda3/envs/diff_test/lib/python3.8/site-packages (from fasteners==0.15->free-mujoco-py) (1.16.0)\n",
            "Collecting monotonic>=0.1 (from fasteners==0.15->free-mujoco-py)\n",
            "  Downloading monotonic-1.6-py2.py3-none-any.whl (8.2 kB)\n",
            "Requirement already satisfied: pyglet<=1.5.0,>=1.4.0 in /home/tomq/anaconda3/envs/diff_test/lib/python3.8/site-packages (from gym) (1.5.0)\n",
            "Collecting pillow\n",
            "  Using cached Pillow-7.2.0-cp38-cp38-manylinux1_x86_64.whl (2.2 MB)\n",
            "Requirement already satisfied: cloudpickle<1.7.0,>=1.2.0 in /home/tomq/anaconda3/envs/diff_test/lib/python3.8/site-packages (from gym) (1.6.0)\n",
            "Requirement already satisfied: pybullet in /home/tomq/anaconda3/envs/diff_test/lib/python3.8/site-packages (from d4rl==1.1) (3.2.6)\n",
            "Requirement already satisfied: h5py in /home/tomq/anaconda3/envs/diff_test/lib/python3.8/site-packages (from d4rl==1.1) (3.10.0)\n",
            "Requirement already satisfied: termcolor in /home/tomq/anaconda3/envs/diff_test/lib/python3.8/site-packages (from d4rl==1.1) (2.4.0)\n",
            "Requirement already satisfied: click in /home/tomq/anaconda3/envs/diff_test/lib/python3.8/site-packages (from d4rl==1.1) (8.0.4)\n",
            "Requirement already satisfied: pycparser in /home/tomq/anaconda3/envs/diff_test/lib/python3.8/site-packages (from cffi<2.0.0,>=1.15.0->free-mujoco-py) (2.21)\n",
            "Requirement already satisfied: smmap<6,>=3.0.1 in /home/tomq/anaconda3/envs/diff_test/lib/python3.8/site-packages (from gitdb<5,>=4.0.1->gitpython) (5.0.1)\n",
            "Requirement already satisfied: cycler>=0.10 in /home/tomq/anaconda3/envs/diff_test/lib/python3.8/site-packages (from matplotlib!=3.0.0,>=2.0.0->scikit-image==0.17.2) (0.12.1)\n",
            "Requirement already satisfied: kiwisolver>=1.0.1 in /home/tomq/anaconda3/envs/diff_test/lib/python3.8/site-packages (from matplotlib!=3.0.0,>=2.0.0->scikit-image==0.17.2) (1.4.5)\n",
            "Requirement already satisfied: pyparsing!=2.0.4,!=2.1.2,!=2.1.6,>=2.0.3 in /home/tomq/anaconda3/envs/diff_test/lib/python3.8/site-packages (from matplotlib!=3.0.0,>=2.0.0->scikit-image==0.17.2) (3.1.1)\n",
            "Requirement already satisfied: python-dateutil>=2.1 in /home/tomq/anaconda3/envs/diff_test/lib/python3.8/site-packages (from matplotlib!=3.0.0,>=2.0.0->scikit-image==0.17.2) (2.8.2)\n",
            "Requirement already satisfied: future in /home/tomq/anaconda3/envs/diff_test/lib/python3.8/site-packages (from pyglet<=1.5.0,>=1.4.0->gym) (0.18.3)\n",
            "Requirement already satisfied: mypy-extensions>=0.3.0 in /home/tomq/anaconda3/envs/diff_test/lib/python3.8/site-packages (from typing-inspect>=0.7.1->typed-argument-parser) (1.0.0)\n",
            "Requirement already satisfied: typing-extensions>=3.7.4 in /home/tomq/anaconda3/envs/diff_test/lib/python3.8/site-packages (from typing-inspect>=0.7.1->typed-argument-parser) (4.9.0)\n",
            "Installing collected packages: monotonic, glfw, pillow, fasteners, free-mujoco-py\n",
            "  Attempting uninstall: glfw\n",
            "    Found existing installation: glfw 2.6.4\n",
            "    Uninstalling glfw-2.6.4:\n",
            "      Successfully uninstalled glfw-2.6.4\n",
            "  Attempting uninstall: pillow\n",
            "    Found existing installation: pillow 10.2.0\n",
            "    Uninstalling pillow-10.2.0:\n",
            "      Successfully uninstalled pillow-10.2.0\n",
            "  Attempting uninstall: fasteners\n",
            "    Found existing installation: fasteners 0.19\n",
            "    Uninstalling fasteners-0.19:\n",
            "      Successfully uninstalled fasteners-0.19\n",
            "Successfully installed fasteners-0.15 free-mujoco-py-2.1.6 glfw-1.12.0 monotonic-1.6 pillow-7.2.0\n",
            "Note: you may need to restart the kernel to use updated packages.\n",
            "Obtaining file:///home/tomq/Documents/DiffuserMaze2d/diffuser/scripts\n",
            "\u001b[31mERROR: file:///home/tomq/Documents/DiffuserMaze2d/diffuser/scripts does not appear to be a Python project: neither 'setup.py' nor 'pyproject.toml' found.\u001b[0m\u001b[31m\n",
            "\u001b[0mNote: you may need to restart the kernel to use updated packages.\n"
          ]
        }
      ],
      "source": [
        "%cd /content\n",
        "\n",
        "## TODO: use when repo is public\n",
        "# !git clone https://github.com/jannerm/diffuser.git\n",
        "## backup for private repo\n",
        "!curl -L -o diffuser.zip https://www.dropbox.com/s/fe1scd8m2jf7zvj/diffuser.tar?dl=1\n",
        "!tar -xf diffuser.zip\n",
        "## /TODO\n",
        "\n",
        "%cd diffuser\n",
        "%pip install -f https://download.pytorch.org/whl/torch_stable.html \\\n",
        "                typed-argument-parser \\\n",
        "                scikit-image==0.17.2 \\\n",
        "                scikit-video==1.1.11 \\\n",
        "                gitpython \\\n",
        "                einops \\\n",
        "                pillow \\\n",
        "                free-mujoco-py \\\n",
        "                gym \\\n",
        "                git+https://github.com/JannerM/d4rl.git@0e84a4d29db3ae501043215ce1d91843929f1949 \\\n",
        "                git+https://github.com/aravindr93/mjrl\n",
        "\n",
        "%pip install -e ."
      ]
    },
    {
      "cell_type": "code",
      "execution_count": 4,
      "metadata": {
        "colab": {
          "base_uri": "https://localhost:8080/"
        },
        "id": "rFVGxWIuVj5F",
        "outputId": "b0fde36e-b724-4c8c-c40a-3828a72ea943"
      },
      "outputs": [
        {
          "name": "stderr",
          "output_type": "stream",
          "text": [
            "/home/tomq/anaconda3/envs/diff_test/lib/python3.8/site-packages/tqdm/auto.py:21: TqdmWarning: IProgress not found. Please update jupyter and ipywidgets. See https://ipywidgets.readthedocs.io/en/stable/user_install.html\n",
            "  from .autonotebook import tqdm as notebook_tqdm\n"
          ]
        },
        {
          "name": "stdout",
          "output_type": "stream",
          "text": [
            "Compiling /home/tomq/anaconda3/envs/diff_test/lib/python3.8/site-packages/mujoco_py/cymj.pyx because it changed.\n",
            "[1/1] Cythonizing /home/tomq/anaconda3/envs/diff_test/lib/python3.8/site-packages/mujoco_py/cymj.pyx\n",
            "running build_ext\n",
            "building 'mujoco_py.cymj' extension\n",
            "creating /home/tomq/anaconda3/envs/diff_test/lib/python3.8/site-packages/mujoco_py/generated/_pyxbld_2.0.2.13_38_linuxcpuextensionbuilder\n",
            "creating /home/tomq/anaconda3/envs/diff_test/lib/python3.8/site-packages/mujoco_py/generated/_pyxbld_2.0.2.13_38_linuxcpuextensionbuilder/temp.linux-x86_64-cpython-38\n",
            "creating /home/tomq/anaconda3/envs/diff_test/lib/python3.8/site-packages/mujoco_py/generated/_pyxbld_2.0.2.13_38_linuxcpuextensionbuilder/temp.linux-x86_64-cpython-38/home\n",
            "creating /home/tomq/anaconda3/envs/diff_test/lib/python3.8/site-packages/mujoco_py/generated/_pyxbld_2.0.2.13_38_linuxcpuextensionbuilder/temp.linux-x86_64-cpython-38/home/tomq\n",
            "creating /home/tomq/anaconda3/envs/diff_test/lib/python3.8/site-packages/mujoco_py/generated/_pyxbld_2.0.2.13_38_linuxcpuextensionbuilder/temp.linux-x86_64-cpython-38/home/tomq/anaconda3\n",
            "creating /home/tomq/anaconda3/envs/diff_test/lib/python3.8/site-packages/mujoco_py/generated/_pyxbld_2.0.2.13_38_linuxcpuextensionbuilder/temp.linux-x86_64-cpython-38/home/tomq/anaconda3/envs\n",
            "creating /home/tomq/anaconda3/envs/diff_test/lib/python3.8/site-packages/mujoco_py/generated/_pyxbld_2.0.2.13_38_linuxcpuextensionbuilder/temp.linux-x86_64-cpython-38/home/tomq/anaconda3/envs/diff_test\n",
            "creating /home/tomq/anaconda3/envs/diff_test/lib/python3.8/site-packages/mujoco_py/generated/_pyxbld_2.0.2.13_38_linuxcpuextensionbuilder/temp.linux-x86_64-cpython-38/home/tomq/anaconda3/envs/diff_test/lib\n",
            "creating /home/tomq/anaconda3/envs/diff_test/lib/python3.8/site-packages/mujoco_py/generated/_pyxbld_2.0.2.13_38_linuxcpuextensionbuilder/temp.linux-x86_64-cpython-38/home/tomq/anaconda3/envs/diff_test/lib/python3.8\n",
            "creating /home/tomq/anaconda3/envs/diff_test/lib/python3.8/site-packages/mujoco_py/generated/_pyxbld_2.0.2.13_38_linuxcpuextensionbuilder/temp.linux-x86_64-cpython-38/home/tomq/anaconda3/envs/diff_test/lib/python3.8/site-packages\n",
            "creating /home/tomq/anaconda3/envs/diff_test/lib/python3.8/site-packages/mujoco_py/generated/_pyxbld_2.0.2.13_38_linuxcpuextensionbuilder/temp.linux-x86_64-cpython-38/home/tomq/anaconda3/envs/diff_test/lib/python3.8/site-packages/mujoco_py\n",
            "creating /home/tomq/anaconda3/envs/diff_test/lib/python3.8/site-packages/mujoco_py/generated/_pyxbld_2.0.2.13_38_linuxcpuextensionbuilder/temp.linux-x86_64-cpython-38/home/tomq/anaconda3/envs/diff_test/lib/python3.8/site-packages/mujoco_py/gl\n",
            "gcc -pthread -B /home/tomq/anaconda3/envs/diff_test/compiler_compat -Wl,--sysroot=/ -Wsign-compare -DNDEBUG -g -fwrapv -O3 -Wall -fPIC -I/home/tomq/anaconda3/envs/diff_test/lib/python3.8/site-packages/mujoco_py -I/home/tomq/anaconda3/envs/diff_test/lib/python3.8/site-packages/mujoco_py/binaries/linux/mujoco210/include -I/home/tomq/anaconda3/envs/diff_test/lib/python3.8/site-packages/numpy/core/include -I/home/tomq/anaconda3/envs/diff_test/include/python3.8 -c /home/tomq/anaconda3/envs/diff_test/lib/python3.8/site-packages/mujoco_py/cymj.c -o /home/tomq/anaconda3/envs/diff_test/lib/python3.8/site-packages/mujoco_py/generated/_pyxbld_2.0.2.13_38_linuxcpuextensionbuilder/temp.linux-x86_64-cpython-38/home/tomq/anaconda3/envs/diff_test/lib/python3.8/site-packages/mujoco_py/cymj.o -fopenmp -w\n",
            "gcc -pthread -B /home/tomq/anaconda3/envs/diff_test/compiler_compat -Wl,--sysroot=/ -Wsign-compare -DNDEBUG -g -fwrapv -O3 -Wall -fPIC -I/home/tomq/anaconda3/envs/diff_test/lib/python3.8/site-packages/mujoco_py -I/home/tomq/anaconda3/envs/diff_test/lib/python3.8/site-packages/mujoco_py/binaries/linux/mujoco210/include -I/home/tomq/anaconda3/envs/diff_test/lib/python3.8/site-packages/numpy/core/include -I/home/tomq/anaconda3/envs/diff_test/include/python3.8 -c /home/tomq/anaconda3/envs/diff_test/lib/python3.8/site-packages/mujoco_py/gl/osmesashim.c -o /home/tomq/anaconda3/envs/diff_test/lib/python3.8/site-packages/mujoco_py/generated/_pyxbld_2.0.2.13_38_linuxcpuextensionbuilder/temp.linux-x86_64-cpython-38/home/tomq/anaconda3/envs/diff_test/lib/python3.8/site-packages/mujoco_py/gl/osmesashim.o -fopenmp -w\n",
            "creating /home/tomq/anaconda3/envs/diff_test/lib/python3.8/site-packages/mujoco_py/generated/_pyxbld_2.0.2.13_38_linuxcpuextensionbuilder/lib.linux-x86_64-cpython-38\n",
            "creating /home/tomq/anaconda3/envs/diff_test/lib/python3.8/site-packages/mujoco_py/generated/_pyxbld_2.0.2.13_38_linuxcpuextensionbuilder/lib.linux-x86_64-cpython-38/mujoco_py\n",
            "gcc -pthread -shared -B /home/tomq/anaconda3/envs/diff_test/compiler_compat -L/home/tomq/anaconda3/envs/diff_test/lib -Wl,-rpath=/home/tomq/anaconda3/envs/diff_test/lib -Wl,--no-as-needed -Wl,--sysroot=/ /home/tomq/anaconda3/envs/diff_test/lib/python3.8/site-packages/mujoco_py/generated/_pyxbld_2.0.2.13_38_linuxcpuextensionbuilder/temp.linux-x86_64-cpython-38/home/tomq/anaconda3/envs/diff_test/lib/python3.8/site-packages/mujoco_py/cymj.o /home/tomq/anaconda3/envs/diff_test/lib/python3.8/site-packages/mujoco_py/generated/_pyxbld_2.0.2.13_38_linuxcpuextensionbuilder/temp.linux-x86_64-cpython-38/home/tomq/anaconda3/envs/diff_test/lib/python3.8/site-packages/mujoco_py/gl/osmesashim.o -L/home/tomq/anaconda3/envs/diff_test/lib/python3.8/site-packages/mujoco_py/binaries/linux/mujoco210/bin -Wl,--enable-new-dtags,-R/home/tomq/anaconda3/envs/diff_test/lib/python3.8/site-packages/mujoco_py/binaries/linux/mujoco210/bin -lmujoco210 -lglewosmesa -lOSMesa -lGL -o /home/tomq/anaconda3/envs/diff_test/lib/python3.8/site-packages/mujoco_py/generated/_pyxbld_2.0.2.13_38_linuxcpuextensionbuilder/lib.linux-x86_64-cpython-38/mujoco_py/cymj.cpython-38-x86_64-linux-gnu.so -fopenmp\n"
          ]
        },
        {
          "ename": "RuntimeError",
          "evalue": "module compiled against API version 0x10 but this version of numpy is 0xf . Check the section C-API incompatibility at the Troubleshooting ImportError section at https://numpy.org/devdocs/user/troubleshooting-importerror.html#c-api-incompatibility for indications on how to solve this problem .",
          "output_type": "error",
          "traceback": [
            "\u001b[0;31m---------------------------------------------------------------------------\u001b[0m",
            "\u001b[0;31mRuntimeError\u001b[0m                              Traceback (most recent call last)",
            "\u001b[0;31mRuntimeError\u001b[0m: module compiled against API version 0x10 but this version of numpy is 0xf . Check the section C-API incompatibility at the Troubleshooting ImportError section at https://numpy.org/devdocs/user/troubleshooting-importerror.html#c-api-incompatibility for indications on how to solve this problem ."
          ]
        },
        {
          "name": "stderr",
          "output_type": "stream",
          "text": [
            "pybullet build time: Nov 28 2023 23:51:11\n"
          ]
        }
      ],
      "source": [
        "## cythonize mujoco-py at first import\n",
        "import diffuser.utils as utils\n",
        "\n",
        "# import importlib\n",
        "# importlib.reload(utils.colab)"
      ]
    },
    {
      "cell_type": "markdown",
      "metadata": {
        "id": "0qKnJbCXssgw"
      },
      "source": [
        "### Conditional sampling"
      ]
    },
    {
      "cell_type": "code",
      "execution_count": null,
      "metadata": {
        "id": "1PWx-SaieF74"
      },
      "outputs": [],
      "source": [
        "class Args:\n",
        "  loadpath = 'logs/azure/hopper-medium-expert-v2/diffusion/H128_T100'\n",
        "  diffusion_epoch = 'latest'\n",
        "  n_samples = 4\n",
        "  device = 'cuda:0'\n",
        "    \n",
        "args = Args()"
      ]
    },
    {
      "cell_type": "markdown",
      "metadata": {
        "id": "_PnSBgUVVnNq"
      },
      "source": [
        "Load diffusion model from disk"
      ]
    },
    {
      "cell_type": "code",
      "execution_count": null,
      "metadata": {
        "colab": {
          "base_uri": "https://localhost:8080/"
        },
        "id": "v-qLxTlKbm7d",
        "outputId": "fbcba444-8f72-4d36-b306-b53273047caa"
      },
      "outputs": [],
      "source": [
        "%cd /content/diffuser\n",
        "\n",
        "diffusion_experiment = utils.load_diffusion(\n",
        "    args.loadpath, epoch=args.diffusion_epoch)\n",
        "\n",
        "dataset = diffusion_experiment.dataset\n",
        "renderer = diffusion_experiment.renderer\n",
        "model = diffusion_experiment.trainer.ema_model"
      ]
    },
    {
      "cell_type": "markdown",
      "metadata": {
        "id": "R0CRaEtNVq8C"
      },
      "source": [
        "Initialize environment"
      ]
    },
    {
      "cell_type": "code",
      "execution_count": null,
      "metadata": {
        "id": "ouwBQMBcBXL7"
      },
      "outputs": [],
      "source": [
        "env = dataset.env\n",
        "obs = env.reset()"
      ]
    },
    {
      "cell_type": "markdown",
      "metadata": {
        "id": "Bw2wObJOVt-l"
      },
      "source": [
        "Run reverse diffusion"
      ]
    },
    {
      "cell_type": "code",
      "execution_count": null,
      "metadata": {
        "colab": {
          "base_uri": "https://localhost:8080/"
        },
        "id": "Y5xB7bx2COcg",
        "outputId": "3f693a7e-fa6c-4c9f-da90-1f255767005c"
      },
      "outputs": [],
      "source": [
        "observations = utils.colab.run_diffusion(\n",
        "    model, dataset, obs, args.n_samples, args.device)\n",
        "print(observations.shape)"
      ]
    },
    {
      "cell_type": "markdown",
      "metadata": {
        "id": "OhHZC48kVxGM"
      },
      "source": [
        "Render the samples"
      ]
    },
    {
      "cell_type": "code",
      "execution_count": null,
      "metadata": {
        "colab": {
          "base_uri": "https://localhost:8080/",
          "height": 221
        },
        "id": "3g8N_n8VRLPs",
        "outputId": "04457496-357d-4700-e722-e06a4944511f"
      },
      "outputs": [],
      "source": [
        "sample = observations[-1]\n",
        "utils.colab.show_sample(renderer, sample)"
      ]
    },
    {
      "cell_type": "markdown",
      "metadata": {
        "id": "iHn4eDk1V0hp"
      },
      "source": [
        "Render the full reverse diffusion process for the first sample.\n",
        "\n",
        "This renders `horizon * n_diffusion_steps` images, so takes a few minutes. Increasing `substep` will speed up the video generation, but cause it to skip frames."
      ]
    },
    {
      "cell_type": "code",
      "execution_count": null,
      "metadata": {
        "colab": {
          "base_uri": "https://localhost:8080/",
          "height": 458
        },
        "id": "FpRFKqP5Q8og",
        "outputId": "9a7e9e8a-acf6-4e80-9375-86ed928db00f"
      },
      "outputs": [],
      "source": [
        "utils.colab.show_diffusion(renderer, observations[:,:1], substep=1)"
      ]
    },
    {
      "cell_type": "code",
      "execution_count": null,
      "metadata": {
        "id": "qYCkHAZAYNsd"
      },
      "outputs": [],
      "source": []
    }
  ],
  "metadata": {
    "accelerator": "GPU",
    "colab": {
      "collapsed_sections": [
        "7Cy2P-c4XFTx"
      ],
      "name": "diffuser-sample.ipynb",
      "provenance": []
    },
    "kernelspec": {
      "display_name": "Python 3",
      "name": "python3"
    },
    "language_info": {
      "codemirror_mode": {
        "name": "ipython",
        "version": 3
      },
      "file_extension": ".py",
      "mimetype": "text/x-python",
      "name": "python",
      "nbconvert_exporter": "python",
      "pygments_lexer": "ipython3",
      "version": "3.8.18"
    }
  },
  "nbformat": 4,
  "nbformat_minor": 0
}
